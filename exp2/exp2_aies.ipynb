{
 "cells": [
  {
   "cell_type": "markdown",
   "metadata": {
    "id": "OJfXBtQR-slq"
   },
   "source": [
    "Experiment 2: Impact of Data Quality on AI Fairness\n"
   ]
  },
  {
   "cell_type": "markdown",
   "metadata": {
    "id": "qkW76NSA_Ovi"
   },
   "source": [
    "**Objective: To understand how imbalanced data affects the fairness and performance of AI models — and how data balancing techniques (like SMOTE) can improve fairness.**"
   ]
  },
  {
   "cell_type": "markdown",
   "metadata": {
    "id": "TebNQ9sc-sAq"
   },
   "source": [
    "Theory:\n",
    "AI systems are only as fair as the data they learn from. If one class or group is underrepresented (e.g., 90% male data, 10% female), the model will likely favor the majority group. This introduces algorithmic unfairness."
   ]
  },
  {
   "cell_type": "markdown",
   "metadata": {
    "id": "gq7AUEvc_j0B"
   },
   "source": [
    "Dataset:  real-world dataset—the COMPAS Recidivism dataset from ProPublica"
   ]
  },
  {
   "cell_type": "markdown",
   "metadata": {
    "id": "tuU5nPRJsvdF"
   },
   "source": [
    "**COMPAS (Correctional Offender Management Profiling for Alternative Sanctions)** is a popular commercial algorithm used by judges and parole officers for scoring criminal defendant’s likelihood of reoffending (recidivism). It has been shown that the algorithm is biased in favor of white defendants, and against black inmates, based on a 2 year follow up study (i.e who actually committed crimes or violent crimes after 2 years)."
   ]
  },
  {
   "cell_type": "markdown",
   "metadata": {
    "id": "2ixJD-bH_vJp"
   },
   "source": [
    "Task: Predict two_year_recid (yes/no).\n",
    "\n",
    "Sensitive attribute: race (e.g., African‑American vs Caucasian).\n",
    "\n",
    "Goal: Evaluate how imbalanced data quality (over-/under‑representation of races or outcome labels) impacts fairness."
   ]
  },
  {
   "cell_type": "code",
   "execution_count": 182,
   "metadata": {
    "colab": {
     "base_uri": "https://localhost:8080/"
    },
    "executionInfo": {
     "elapsed": 9546,
     "status": "ok",
     "timestamp": 1753939820319,
     "user": {
      "displayName": "priyanka shiv more",
      "userId": "09539223761310484086"
     },
     "user_tz": -330
    },
    "id": "KA7jDzHhAnXT",
    "outputId": "63ae9b43-4646-4def-eb81-83fbe50adce2"
   },
   "outputs": [
    {
     "name": "stdout",
     "output_type": "stream",
     "text": [
      "Defaulting to user installation because normal site-packages is not writeable\n",
      "Requirement already satisfied: fairlearn in /home/aadil/.local/lib/python3.13/site-packages (0.12.0)\n",
      "Requirement already satisfied: numpy>=1.24.4 in /home/aadil/.local/lib/python3.13/site-packages (from fairlearn) (2.3.2)\n",
      "Requirement already satisfied: pandas>=2.0.3 in /home/aadil/.local/lib/python3.13/site-packages (from fairlearn) (2.3.1)\n",
      "Requirement already satisfied: scikit-learn>=1.2.1 in /home/aadil/.local/lib/python3.13/site-packages (from fairlearn) (1.7.1)\n",
      "Requirement already satisfied: scipy>=1.9.3 in /home/aadil/.local/lib/python3.13/site-packages (from fairlearn) (1.16.1)\n",
      "Requirement already satisfied: fairlearn in /home/aadil/.local/lib/python3.13/site-packages (0.12.0)\n",
      "Requirement already satisfied: numpy>=1.24.4 in /home/aadil/.local/lib/python3.13/site-packages (from fairlearn) (2.3.2)\n",
      "Requirement already satisfied: pandas>=2.0.3 in /home/aadil/.local/lib/python3.13/site-packages (from fairlearn) (2.3.1)\n",
      "Requirement already satisfied: scikit-learn>=1.2.1 in /home/aadil/.local/lib/python3.13/site-packages (from fairlearn) (1.7.1)\n",
      "Requirement already satisfied: scipy>=1.9.3 in /home/aadil/.local/lib/python3.13/site-packages (from fairlearn) (1.16.1)\n",
      "Requirement already satisfied: python-dateutil>=2.8.2 in /usr/lib/python3.13/site-packages (from pandas>=2.0.3->fairlearn) (2.8.2)\n",
      "Requirement already satisfied: pytz>=2020.1 in /home/aadil/.local/lib/python3.13/site-packages (from pandas>=2.0.3->fairlearn) (2025.2)\n",
      "Requirement already satisfied: tzdata>=2022.7 in /home/aadil/.local/lib/python3.13/site-packages (from pandas>=2.0.3->fairlearn) (2025.2)\n",
      "Requirement already satisfied: joblib>=1.2.0 in /home/aadil/.local/lib/python3.13/site-packages (from scikit-learn>=1.2.1->fairlearn) (1.5.1)\n",
      "Requirement already satisfied: threadpoolctl>=3.1.0 in /home/aadil/.local/lib/python3.13/site-packages (from scikit-learn>=1.2.1->fairlearn) (3.6.0)\n",
      "Requirement already satisfied: six>=1.5 in /usr/lib/python3.13/site-packages (from python-dateutil>=2.8.2->pandas>=2.0.3->fairlearn) (1.17.0)\n",
      "Requirement already satisfied: python-dateutil>=2.8.2 in /usr/lib/python3.13/site-packages (from pandas>=2.0.3->fairlearn) (2.8.2)\n",
      "Requirement already satisfied: pytz>=2020.1 in /home/aadil/.local/lib/python3.13/site-packages (from pandas>=2.0.3->fairlearn) (2025.2)\n",
      "Requirement already satisfied: tzdata>=2022.7 in /home/aadil/.local/lib/python3.13/site-packages (from pandas>=2.0.3->fairlearn) (2025.2)\n",
      "Requirement already satisfied: joblib>=1.2.0 in /home/aadil/.local/lib/python3.13/site-packages (from scikit-learn>=1.2.1->fairlearn) (1.5.1)\n",
      "Requirement already satisfied: threadpoolctl>=3.1.0 in /home/aadil/.local/lib/python3.13/site-packages (from scikit-learn>=1.2.1->fairlearn) (3.6.0)\n",
      "Requirement already satisfied: six>=1.5 in /usr/lib/python3.13/site-packages (from python-dateutil>=2.8.2->pandas>=2.0.3->fairlearn) (1.17.0)\n",
      "Note: you may need to restart the kernel to use updated packages.\n",
      "Note: you may need to restart the kernel to use updated packages.\n"
     ]
    }
   ],
   "source": [
    "pip install fairlearn"
   ]
  },
  {
   "cell_type": "code",
   "execution_count": 183,
   "metadata": {
    "executionInfo": {
     "elapsed": 3343,
     "status": "ok",
     "timestamp": 1753939823701,
     "user": {
      "displayName": "priyanka shiv more",
      "userId": "09539223761310484086"
     },
     "user_tz": -330
    },
    "id": "8UUHQsEnAZzi"
   },
   "outputs": [],
   "source": [
    "import pandas as pd\n",
    "from sklearn.model_selection import train_test_split\n",
    "from sklearn.linear_model import LogisticRegression\n",
    "from fairlearn.metrics import MetricFrame, true_positive_rate, false_positive_rate"
   ]
  },
  {
   "cell_type": "markdown",
   "metadata": {
    "id": "h1vzS6lC_5lp"
   },
   "source": [
    "**Step 1: Load & Inspect Data**"
   ]
  },
  {
   "cell_type": "code",
   "execution_count": 184,
   "metadata": {
    "executionInfo": {
     "elapsed": 310,
     "status": "ok",
     "timestamp": 1753939826344,
     "user": {
      "displayName": "priyanka shiv more",
      "userId": "09539223761310484086"
     },
     "user_tz": -330
    },
    "id": "usn-ETVnAM8h"
   },
   "outputs": [],
   "source": [
    "df = pd.read_csv('compas-scores-two-years.csv')"
   ]
  },
  {
   "cell_type": "code",
   "execution_count": 185,
   "metadata": {
    "colab": {
     "base_uri": "https://localhost:8080/"
    },
    "executionInfo": {
     "elapsed": 30,
     "status": "ok",
     "timestamp": 1753939828254,
     "user": {
      "displayName": "priyanka shiv more",
      "userId": "09539223761310484086"
     },
     "user_tz": -330
    },
    "id": "7gQsUXtuA16Z",
    "outputId": "bb199d2e-5089-4140-dc88-a0477a3d10b5"
   },
   "outputs": [
    {
     "data": {
      "text/plain": [
       "Index(['id', 'name', 'first', 'last', 'compas_screening_date', 'sex', 'dob',\n",
       "       'age', 'age_cat', 'race', 'juv_fel_count', 'decile_score',\n",
       "       'juv_misd_count', 'juv_other_count', 'priors_count',\n",
       "       'days_b_screening_arrest', 'c_jail_in', 'c_jail_out', 'c_case_number',\n",
       "       'c_offense_date', 'c_arrest_date', 'c_days_from_compas',\n",
       "       'c_charge_degree', 'c_charge_desc', 'is_recid', 'r_case_number',\n",
       "       'r_charge_degree', 'r_days_from_arrest', 'r_offense_date',\n",
       "       'r_charge_desc', 'r_jail_in', 'r_jail_out', 'violent_recid',\n",
       "       'is_violent_recid', 'vr_case_number', 'vr_charge_degree',\n",
       "       'vr_offense_date', 'vr_charge_desc', 'type_of_assessment',\n",
       "       'decile_score.1', 'score_text', 'screening_date',\n",
       "       'v_type_of_assessment', 'v_decile_score', 'v_score_text',\n",
       "       'v_screening_date', 'in_custody', 'out_custody', 'priors_count.1',\n",
       "       'start', 'end', 'event', 'two_year_recid'],\n",
       "      dtype='object')"
      ]
     },
     "execution_count": 185,
     "metadata": {},
     "output_type": "execute_result"
    }
   ],
   "source": [
    "df.columns"
   ]
  },
  {
   "cell_type": "code",
   "execution_count": 186,
   "metadata": {
    "executionInfo": {
     "elapsed": 45,
     "status": "ok",
     "timestamp": 1753939830736,
     "user": {
      "displayName": "priyanka shiv more",
      "userId": "09539223761310484086"
     },
     "user_tz": -330
    },
    "id": "48FWs6ozAy4S"
   },
   "outputs": [],
   "source": [
    "# Keep only the needed columns\n",
    "df = df[df['race'].isin(['African-American', 'Caucasian'])]\n",
    "df = df.dropna(subset=['age', 'priors_count', 'c_charge_degree', 'two_year_recid'])"
   ]
  },
  {
   "cell_type": "code",
   "execution_count": 187,
   "metadata": {
    "executionInfo": {
     "elapsed": 71,
     "status": "ok",
     "timestamp": 1753939833490,
     "user": {
      "displayName": "priyanka shiv more",
      "userId": "09539223761310484086"
     },
     "user_tz": -330
    },
    "id": "KurCRgJZCA1z"
   },
   "outputs": [],
   "source": [
    "# One-hot encode the categorical column\n",
    "df = pd.get_dummies(df, columns=['c_charge_degree'], drop_first=True)"
   ]
  },
  {
   "cell_type": "code",
   "execution_count": 188,
   "metadata": {
    "executionInfo": {
     "elapsed": 16,
     "status": "ok",
     "timestamp": 1753939834798,
     "user": {
      "displayName": "priyanka shiv more",
      "userId": "09539223761310484086"
     },
     "user_tz": -330
    },
    "id": "Yc1Hnf4pCDdx"
   },
   "outputs": [],
   "source": [
    "# Select all required columns\n",
    "features = ['age', 'priors_count'] + [col for col in df.columns if 'c_charge_degree' in col]\n",
    "X = df[features]\n",
    "y = df['two_year_recid'].astype(int)\n",
    "race = df['race']"
   ]
  },
  {
   "cell_type": "code",
   "execution_count": 189,
   "metadata": {
    "executionInfo": {
     "elapsed": 22,
     "status": "ok",
     "timestamp": 1753939836386,
     "user": {
      "displayName": "priyanka shiv more",
      "userId": "09539223761310484086"
     },
     "user_tz": -330
    },
    "id": "hoNkru6hChFi"
   },
   "outputs": [],
   "source": [
    "X_train, X_test, y_train, y_test, race_train, race_test = \\\n",
    "    train_test_split(X, y, race, test_size=0.3, stratify=race)"
   ]
  },
  {
   "cell_type": "code",
   "execution_count": 190,
   "metadata": {
    "executionInfo": {
     "elapsed": 38,
     "status": "ok",
     "timestamp": 1753939837942,
     "user": {
      "displayName": "priyanka shiv more",
      "userId": "09539223761310484086"
     },
     "user_tz": -330
    },
    "id": "J_8i1_96ClI5"
   },
   "outputs": [],
   "source": [
    "clf = LogisticRegression(max_iter=1000)\n",
    "clf.fit(X_train, y_train)\n",
    "y_pred = clf.predict(X_test)"
   ]
  },
  {
   "cell_type": "code",
   "execution_count": 191,
   "metadata": {
    "executionInfo": {
     "elapsed": 33,
     "status": "ok",
     "timestamp": 1753939857461,
     "user": {
      "displayName": "priyanka shiv more",
      "userId": "09539223761310484086"
     },
     "user_tz": -330
    },
    "id": "wkh87nxLPp3v"
   },
   "outputs": [],
   "source": [
    "from fairlearn.metrics import (\n",
    "    MetricFrame,\n",
    "    true_positive_rate,\n",
    "    false_positive_rate,\n",
    "    selection_rate,\n",
    "    demographic_parity_difference,\n",
    "    equalized_odds_difference,\n",
    "    false_negative_rate,\n",
    "    true_negative_rate\n",
    ")"
   ]
  },
  {
   "cell_type": "code",
   "execution_count": 192,
   "metadata": {
    "colab": {
     "base_uri": "https://localhost:8080/"
    },
    "executionInfo": {
     "elapsed": 62,
     "status": "ok",
     "timestamp": 1753939904120,
     "user": {
      "displayName": "priyanka shiv more",
      "userId": "09539223761310484086"
     },
     "user_tz": -330
    },
    "id": "NJFLtCnEQvZX",
    "outputId": "20d57046-5e9a-499b-8f7d-d605fc8096e0"
   },
   "outputs": [
    {
     "name": "stdout",
     "output_type": "stream",
     "text": [
      "Fairness Metrics by Race Group:\n",
      "                       TPR       FPR      FNR  Selection Rate\n",
      "race                                                        \n",
      "African-American  0.62415  0.316699  0.37585        0.479711\n",
      "Caucasian         0.40625  0.162946  0.59375        0.258152\n"
     ]
    }
   ],
   "source": [
    "metric_frame = MetricFrame(\n",
    "    metrics={\n",
    "        'TPR': true_positive_rate,\n",
    "        'FPR': false_positive_rate,\n",
    "        'FNR': false_negative_rate,\n",
    "        'Selection Rate': selection_rate\n",
    "    },\n",
    "    y_true=y_test,\n",
    "    y_pred=y_pred,\n",
    "    sensitive_features=race_test\n",
    ")\n",
    "\n",
    "print(\"Fairness Metrics by Race Group:\\n\", metric_frame.by_group)"
   ]
  },
  {
   "cell_type": "markdown",
   "metadata": {
    "id": "3xnW1J37XHUu"
   },
   "source": [
    "Result Interpretation\n",
    "1.**True Positive Rate (TPR)** = How well the model catches actual positives (those who will reoffend)\n",
    "African-Americans (TPR = 66.5%)\n",
    "Caucasians (TPR = 48.1%)\n",
    "\n",
    "**Interpretation:**\n",
    "The model is much better at correctly predicting recidivism among African-Americans than Caucasians.\n",
    "This may seem fair, but it could also mean the model overfits to patterns in African-American data, which might be more represented or biased.\n",
    "\n",
    "**2.False Positive Rate (FPR) =** How often the model wrongly labels someone as positive (predicts they will reoffend when they won’t)\n",
    "African-Americans (FPR = 34.2%)\n",
    "Caucasians (FPR = 14.6%)\n",
    "\n",
    "**Interpretation:**\n",
    "African-Americans are more than twice as likely to be wrongly flagged as \"high risk\" compared to Caucasians.\n",
    "This is a serious fairness concern, as it suggests over-policing or unjust labeling of African-Americans.\n",
    "\n",
    "**3.False Negative Rate (FNR) =** How often the model misses actual positives (predicts they won’t reoffend but they will)\n",
    "African-Americans (FNR = 33.5%)\n",
    "Caucasians (FNR = 51.9%)\n",
    "\n",
    "**Interpretation:**\n",
    "Caucasians are more likely to be wrongly considered low risk — they go unflagged even though they might reoffend.\n",
    "This creates a double unfairness: African-Americans are falsely flagged more, while Caucasians are let off more easily.\n",
    "\n",
    "**4.Selection Rate** = How often the model predicts \"positive\" (i.e., will reoffend)\n",
    "African-Americans (50.5%)\n",
    "Caucasians (27.4%)\n",
    "\n",
    "**Interpretation:**\n",
    "African-Americans are selected (flagged as risky) almost twice as often as Caucasians.\n",
    "This could reflect disparate treatment — where race plays a strong role in decision-making outcomes.\n",
    "\n",
    "**Summary of Fairness Insights**\n",
    "\n",
    "TPR\tSeems fairer to AAs (higher recall) — but may also indicate bias from training imbalance.\n",
    "\n",
    "❌ FPR\tHigher for AAs → unjust punishment risk.\n",
    "\n",
    "❌ FNR\tHigher for Caucasians → overlooked risk.\n",
    "\n",
    "❌ Selection Rate\tAAs more likely flagged → disparate impact."
   ]
  },
  {
   "cell_type": "code",
   "execution_count": 193,
   "metadata": {
    "executionInfo": {
     "elapsed": 9,
     "status": "ok",
     "timestamp": 1753940281549,
     "user": {
      "displayName": "priyanka shiv more",
      "userId": "09539223761310484086"
     },
     "user_tz": -330
    },
    "id": "KyS3IVU5X5d-"
   },
   "outputs": [],
   "source": [
    "tpr_gap = abs(0.665 - 0.481)  # ~0.184\n",
    "fpr_gap = abs(0.342 - 0.146)  # ~0.196\n",
    "selection_gap = abs(0.505 - 0.274)  # ~0.231"
   ]
  },
  {
   "cell_type": "markdown",
   "metadata": {
    "id": "ffHb4vN0YBhV"
   },
   "source": [
    "TPR Gap ~ 0.18 → Moderate performance difference\n",
    "\n",
    "FPR Gap ~ 0.20 → High unjust flagging difference\n",
    "\n",
    "Selection Gap ~ 0.23 →  Major disparate treatment\n",
    "\n",
    "These values exceed commonly accepted fairness thresholds (like ≤ 0.1), meaning:\n",
    "\n",
    " **Your model is not fair across racial groups.**"
   ]
  },
  {
   "cell_type": "markdown",
   "metadata": {
    "id": "L9oIzzzhTIGW"
   },
   "source": [
    "**Goal of Fairness Metrics**\n",
    "\n",
    "You're trying to answer:\n",
    "\"Is my AI model treating all groups (e.g., different races or genders) fairly when making predictions?\"\n",
    "\n",
    "To answer that, we don’t just look at overall accuracy — because a model could be 90% accurate but still treat one group unfairly.\n",
    "\n",
    "So, we look deeper using group-specific metrics like:\n",
    "\n",
    " **1. True Positive Rate (TPR)** – aka Sensitivity or Recall\n",
    "How many actual positive cases did the model correctly identify?\n",
    "\n",
    "**Formula:**\n",
    "TPR = True Positives / (True Positives + False Negatives)\n",
    "\n",
    "**Why it matters:**\n",
    "If the TPR is much lower for African-Americans than for Caucasians, it means the model is less likely to give a fair second chance to African-Americans.\n",
    "\n",
    "**Unfair if:**\n",
    "One group gets lower TPR — the model misses their positives more often.\n",
    "\n",
    " 2. False Positive Rate (FPR)\n",
    "How many people were incorrectly predicted as positive when they were actually negative?\n",
    "\n",
    "**Formula:**\n",
    "FPR = False Positives / (False Positives + True Negatives)\n",
    "\n",
    "**Why it matters:**\n",
    "If FPR is higher for one group, that group is falsely labeled as \"risky\" more often.\n",
    "\n",
    "**Unfair if:**\n",
    "African-Americans are falsely labeled recidivist more often than Caucasians.\n",
    "\n",
    "**3. False Negative Rate (FNR)**\n",
    "How many real positives did the model miss?\n",
    "\n",
    "**Formula:**\n",
    "FNR = False Negatives / (True Positives + False Negatives)\n",
    "\n",
    "**Why it matters:**\n",
    "High FNR means the model denies opportunity (e.g., bail or job) to those who actually deserve it.\n",
    "\n",
    "**Unfair if:**\n",
    "One group is overlooked (positive but predicted negative) more often.\n",
    "\n",
    "**4. Selection Rate**\n",
    "How many people in each group were predicted positive (selected)?\n",
    "\n",
    "**Formula**:\n",
    "Selection Rate = (Predicted Positives) / (Total People in Group)\n",
    "\n",
    "Why it matters:\n",
    "This shows how often the model makes a positive prediction for each group.\n",
    "\n",
    "**Unfair if:**\n",
    "The model selects one group much more than the other — could be bias in opportunity or over-surveillance.\n",
    "\n"
   ]
  },
  {
   "cell_type": "markdown",
   "metadata": {
    "id": "FFjsOOgiVFWe"
   },
   "source": [
    "These metrics help you judge fairness by asking these questions:\n",
    "\n",
    "![image.png](data:image/png;base64,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)"
   ]
  },
  {
   "cell_type": "markdown",
   "metadata": {
    "id": "KMnnEhpVRPwO"
   },
   "source": [
    "Summary of Interpretation Techniques\n",
    "\n",
    "![image.png](data:image/png;base64,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)"
   ]
  },
  {
   "cell_type": "code",
   "execution_count": 194,
   "metadata": {
    "id": "fcFgW1gRb4Dg"
   },
   "outputs": [],
   "source": [
    "#Fairness Mitigation Code with Reweighing\n",
    "\n",
    "import pandas as pd\n",
    "from sklearn.linear_model import LogisticRegression\n",
    "from sklearn.model_selection import train_test_split\n",
    "from sklearn.metrics import accuracy_score"
   ]
  },
  {
   "cell_type": "code",
   "execution_count": 195,
   "metadata": {
    "id": "ZFI528hscgsV"
   },
   "outputs": [],
   "source": [
    "from fairlearn.reductions import ExponentiatedGradient, DemographicParity\n",
    "from fairlearn.metrics import MetricFrame, selection_rate, true_positive_rate, false_positive_rate, false_negative_rate"
   ]
  },
  {
   "cell_type": "code",
   "execution_count": 196,
   "metadata": {
    "id": "yFatk8Olczr9"
   },
   "outputs": [],
   "source": [
    "df = pd.read_csv(\"compas-scores-two-years.csv\")"
   ]
  },
  {
   "cell_type": "code",
   "execution_count": 197,
   "metadata": {
    "id": "45VBxKhidBEl"
   },
   "outputs": [],
   "source": [
    "# Filter to African-American and Caucasian only\n",
    "df = df[df['race'].isin(['African-American', 'Caucasian'])]\n",
    "df = df.dropna(subset=['age', 'priors_count', 'r_charge_degree', 'two_year_recid'])"
   ]
  },
  {
   "cell_type": "code",
   "execution_count": 198,
   "metadata": {
    "id": "HDNVY0fQdH5p"
   },
   "outputs": [],
   "source": [
    "# One-hot encode categorical features\n",
    "df = pd.get_dummies(df, columns=['r_charge_degree'], drop_first=True)"
   ]
  },
  {
   "cell_type": "code",
   "execution_count": 199,
   "metadata": {
    "id": "19T6gf2ydRj0"
   },
   "outputs": [],
   "source": [
    "# Prepare features and labels\n",
    "features = ['age', 'priors_count'] + [col for col in df.columns if 'r_charge_degree' in col]\n",
    "X = df[features]\n",
    "y = df['two_year_recid'].astype(int)\n",
    "sensitive = df['race'].map({'Caucasian': 0, 'African-American': 1})"
   ]
  },
  {
   "cell_type": "code",
   "execution_count": 200,
   "metadata": {
    "id": "_1mT1pKAdchG"
   },
   "outputs": [],
   "source": [
    "# Train-test split\n",
    "X_train, X_test, y_train, y_test, s_train, s_test = train_test_split(\n",
    "    X, y, sensitive, test_size=0.3, random_state=42, stratify=y\n",
    ")"
   ]
  },
  {
   "cell_type": "code",
   "execution_count": 201,
   "metadata": {
    "colab": {
     "base_uri": "https://localhost:8080/",
     "height": 159
    },
    "executionInfo": {
     "elapsed": 109,
     "status": "error",
     "timestamp": 1753937916632,
     "user": {
      "displayName": "priyanka shiv more",
      "userId": "09539223761310484086"
     },
     "user_tz": -330
    },
    "id": "nC0N01-GgOgW",
    "outputId": "bb29f304-2a0a-4708-e1b4-5841bb1cf8c8"
   },
   "outputs": [
    {
     "name": "stdout",
     "output_type": "stream",
     "text": [
      "['F' 'M']\n"
     ]
    }
   ],
   "source": [
    "# View the problematic entries\n",
    "print(df['c_charge_degree'].unique())"
   ]
  },
  {
   "cell_type": "code",
   "execution_count": 202,
   "metadata": {},
   "outputs": [
    {
     "name": "stdout",
     "output_type": "stream",
     "text": [
      "After cleaning - r_charge_degree columns:\n",
      "  vr_charge_degree: object\n",
      "  r_charge_degree_F1: bool\n",
      "  r_charge_degree_F2: bool\n",
      "  r_charge_degree_F3: bool\n",
      "  r_charge_degree_F6: bool\n",
      "  r_charge_degree_F7: bool\n",
      "  r_charge_degree_M1: bool\n",
      "  r_charge_degree_M2: bool\n",
      "  r_charge_degree_MO3: bool\n",
      "\n",
      "DataFrame shape: (3061, 60)\n",
      "Sample of cleaned column names:\n",
      "['id', 'name', 'first', 'last', 'compas_screening_date', 'sex', 'dob', 'age', 'age_cat', 'race']\n"
     ]
    }
   ],
   "source": [
    "# Fix column names by removing parentheses and other problematic characters\n",
    "import re\n",
    "\n",
    "def clean_column_names(df):\n",
    "    \"\"\"Clean column names to make them sklearn-compatible\"\"\"\n",
    "    new_columns = {}\n",
    "    for col in df.columns:\n",
    "        # Remove parentheses and replace with underscores\n",
    "        new_col = re.sub(r'[()]', '_', col)\n",
    "        # Remove any double underscores and trailing underscores\n",
    "        new_col = re.sub(r'_+', '_', new_col).strip('_')\n",
    "        new_columns[col] = new_col\n",
    "    return df.rename(columns=new_columns)\n",
    "\n",
    "# Apply the cleaning\n",
    "df = clean_column_names(df)\n",
    "\n",
    "# Verify the changes\n",
    "print(\"After cleaning - r_charge_degree columns:\")\n",
    "r_charge_cols = [col for col in df.columns if 'r_charge_degree' in col]\n",
    "for col in r_charge_cols:\n",
    "    print(f\"  {col}: {df[col].dtype}\")\n",
    "\n",
    "print(f\"\\nDataFrame shape: {df.shape}\")\n",
    "print(\"Sample of cleaned column names:\")\n",
    "print(df.columns.tolist()[:10])"
   ]
  },
  {
   "cell_type": "code",
   "execution_count": 203,
   "metadata": {},
   "outputs": [
    {
     "name": "stdout",
     "output_type": "stream",
     "text": [
      "Features being used: ['age', 'priors_count', 'vr_charge_degree', 'r_charge_degree_F1', 'r_charge_degree_F2', 'r_charge_degree_F3', 'r_charge_degree_F6', 'r_charge_degree_F7', 'r_charge_degree_M1', 'r_charge_degree_M2', 'r_charge_degree_MO3']\n",
      "X shape: (3061, 11)\n",
      "y shape: (3061,)\n",
      "Sample of X columns: ['age', 'priors_count', 'vr_charge_degree', 'r_charge_degree_F1', 'r_charge_degree_F2', 'r_charge_degree_F3', 'r_charge_degree_F6', 'r_charge_degree_F7', 'r_charge_degree_M1', 'r_charge_degree_M2', 'r_charge_degree_MO3']\n",
      "X_train shape: (2142, 11)\n",
      "Train set column names (first few): ['age', 'priors_count', 'vr_charge_degree', 'r_charge_degree_F1', 'r_charge_degree_F2', 'r_charge_degree_F3', 'r_charge_degree_F6', 'r_charge_degree_F7', 'r_charge_degree_M1', 'r_charge_degree_M2']\n"
     ]
    }
   ],
   "source": [
    "# Recreate features and data splits with cleaned column names\n",
    "features = ['age', 'priors_count'] + [col for col in df.columns if 'r_charge_degree' in col]\n",
    "print(f\"Features being used: {features}\")\n",
    "\n",
    "# Recreate X and y with cleaned dataframe\n",
    "X = df[features]\n",
    "y = df['two_year_recid']\n",
    "sensitive = df['race']\n",
    "\n",
    "print(f\"X shape: {X.shape}\")\n",
    "print(f\"y shape: {y.shape}\")\n",
    "print(f\"Sample of X columns: {X.columns.tolist()}\")\n",
    "\n",
    "# Redo train_test_split with cleaned data\n",
    "from sklearn.model_selection import train_test_split\n",
    "X_train, X_test, y_train, y_test, s_train, s_test = train_test_split(\n",
    "    X, y, sensitive, test_size=0.3, random_state=42, stratify=sensitive\n",
    ")\n",
    "\n",
    "print(f\"X_train shape: {X_train.shape}\")\n",
    "print(f\"Train set column names (first few): {X_train.columns.tolist()[:10]}\")"
   ]
  },
  {
   "cell_type": "code",
   "execution_count": 204,
   "metadata": {},
   "outputs": [
    {
     "name": "stdout",
     "output_type": "stream",
     "text": [
      "Checking vr_charge_degree values:\n",
      "vr_charge_degree\n",
      "(M1)     302\n",
      "(F3)     203\n",
      "(F2)     138\n",
      "(F1)      34\n",
      "(M2)      16\n",
      "(F7)      15\n",
      "(MO3)      5\n",
      "(F6)       4\n",
      "Name: count, dtype: int64\n",
      "\n",
      "Data types:\n",
      "age                     int64\n",
      "priors_count            int64\n",
      "vr_charge_degree       object\n",
      "r_charge_degree_F1       bool\n",
      "r_charge_degree_F2       bool\n",
      "r_charge_degree_F3       bool\n",
      "r_charge_degree_F6       bool\n",
      "r_charge_degree_F7       bool\n",
      "r_charge_degree_M1       bool\n",
      "r_charge_degree_M2       bool\n",
      "r_charge_degree_MO3      bool\n",
      "dtype: object\n",
      "\n",
      "Column 'vr_charge_degree' has values with parentheses: ['(F3)', '(F2)', '(F1)', '(M1)', '(MO3)', '(M2)', '(F6)', '(F7)']\n",
      "\n",
      "X_train sample:\n",
      "      age  priors_count vr_charge_degree  r_charge_degree_F1  \\\n",
      "5263   20             0             (M1)               False   \n",
      "7121   28             6              NaN               False   \n",
      "2632   34            11              NaN               False   \n",
      "4200   31             0              NaN               False   \n",
      "4331   24            15             (F3)               False   \n",
      "\n",
      "      r_charge_degree_F2  r_charge_degree_F3  r_charge_degree_F6  \\\n",
      "5263               False               False               False   \n",
      "7121               False               False               False   \n",
      "2632               False               False               False   \n",
      "4200               False                True               False   \n",
      "4331               False                True               False   \n",
      "\n",
      "      r_charge_degree_F7  r_charge_degree_M1  r_charge_degree_M2  \\\n",
      "5263               False                True               False   \n",
      "7121               False               False                True   \n",
      "2632               False                True               False   \n",
      "4200               False               False               False   \n",
      "4331               False               False               False   \n",
      "\n",
      "      r_charge_degree_MO3  \n",
      "5263                False  \n",
      "7121                False  \n",
      "2632                False  \n",
      "4200                False  \n",
      "4331                False  \n",
      "\n",
      "X_train dtypes:\n",
      "age                     int64\n",
      "priors_count            int64\n",
      "vr_charge_degree       object\n",
      "r_charge_degree_F1       bool\n",
      "r_charge_degree_F2       bool\n",
      "r_charge_degree_F3       bool\n",
      "r_charge_degree_F6       bool\n",
      "r_charge_degree_F7       bool\n",
      "r_charge_degree_M1       bool\n",
      "r_charge_degree_M2       bool\n",
      "r_charge_degree_MO3      bool\n",
      "dtype: object\n"
     ]
    }
   ],
   "source": [
    "# Check for problematic values in the data itself\n",
    "print(\"Checking vr_charge_degree values:\")\n",
    "print(df['vr_charge_degree'].value_counts())\n",
    "print(\"\\nData types:\")\n",
    "print(df[features].dtypes)\n",
    "\n",
    "# Check if any values in the features contain parentheses\n",
    "for col in features:\n",
    "    if df[col].dtype == 'object':\n",
    "        unique_vals = df[col].unique()\n",
    "        problematic = [val for val in unique_vals if pd.notna(val) and '(' in str(val)]\n",
    "        if problematic:\n",
    "            print(f\"\\nColumn '{col}' has values with parentheses: {problematic}\")\n",
    "\n",
    "# Check a sample of X_train to see what sklearn is trying to convert\n",
    "print(f\"\\nX_train sample:\")\n",
    "print(X_train.head())\n",
    "print(f\"\\nX_train dtypes:\")\n",
    "print(X_train.dtypes)"
   ]
  },
  {
   "cell_type": "code",
   "execution_count": 205,
   "metadata": {},
   "outputs": [
    {
     "name": "stdout",
     "output_type": "stream",
     "text": [
      "One-hot encoding vr_charge_degree column...\n",
      "New columns after encoding vr_charge_degree:\n",
      "['vr_charge_degree_F2', 'vr_charge_degree_F3', 'vr_charge_degree_F6', 'vr_charge_degree_F7', 'vr_charge_degree_M1', 'vr_charge_degree_M2', 'vr_charge_degree_MO3']\n",
      "\n",
      "Updated features: ['age', 'priors_count', 'r_charge_degree_F1', 'r_charge_degree_F2', 'r_charge_degree_F3', 'r_charge_degree_F6', 'r_charge_degree_F7', 'r_charge_degree_M1', 'r_charge_degree_M2', 'r_charge_degree_MO3', 'vr_charge_degree_F2', 'vr_charge_degree_F3', 'vr_charge_degree_F6', 'vr_charge_degree_F7', 'vr_charge_degree_M1', 'vr_charge_degree_M2', 'vr_charge_degree_MO3']\n",
      "X shape: (3061, 17)\n",
      "X dtypes:\n",
      "age                     int64\n",
      "priors_count            int64\n",
      "r_charge_degree_F1       bool\n",
      "r_charge_degree_F2       bool\n",
      "r_charge_degree_F3       bool\n",
      "r_charge_degree_F6       bool\n",
      "r_charge_degree_F7       bool\n",
      "r_charge_degree_M1       bool\n",
      "r_charge_degree_M2       bool\n",
      "r_charge_degree_MO3      bool\n",
      "vr_charge_degree_F2      bool\n",
      "vr_charge_degree_F3      bool\n",
      "vr_charge_degree_F6      bool\n",
      "vr_charge_degree_F7      bool\n",
      "vr_charge_degree_M1      bool\n",
      "vr_charge_degree_M2      bool\n",
      "vr_charge_degree_MO3     bool\n",
      "dtype: object\n"
     ]
    }
   ],
   "source": [
    "# Fix the vr_charge_degree column - either one-hot encode it or exclude it\n",
    "# Since the r_charge_degree columns are already one-hot encoded, let's one-hot encode vr_charge_degree too\n",
    "\n",
    "print(\"One-hot encoding vr_charge_degree column...\")\n",
    "# One-hot encode the vr_charge_degree column\n",
    "df_encoded = pd.get_dummies(df, columns=['vr_charge_degree'], drop_first=True)\n",
    "\n",
    "# Clean the new column names\n",
    "df_encoded = clean_column_names(df_encoded)\n",
    "\n",
    "print(\"New columns after encoding vr_charge_degree:\")\n",
    "vr_cols = [col for col in df_encoded.columns if 'vr_charge_degree' in col]\n",
    "print(vr_cols)\n",
    "\n",
    "# Update our dataframe\n",
    "df = df_encoded\n",
    "\n",
    "# Recreate features with the properly encoded vr_charge_degree columns\n",
    "# Remove the original vr_charge_degree and add the new encoded columns\n",
    "features = ['age', 'priors_count'] + [col for col in df.columns if 'r_charge_degree' in col and col.startswith('r_')] + [col for col in df.columns if 'vr_charge_degree' in col]\n",
    "print(f\"\\nUpdated features: {features}\")\n",
    "\n",
    "# Recreate X with the properly encoded features\n",
    "X = df[features]\n",
    "y = df['two_year_recid']\n",
    "sensitive = df['race']\n",
    "\n",
    "print(f\"X shape: {X.shape}\")\n",
    "print(f\"X dtypes:\")\n",
    "print(X.dtypes)"
   ]
  },
  {
   "cell_type": "code",
   "execution_count": 206,
   "metadata": {},
   "outputs": [
    {
     "name": "stdout",
     "output_type": "stream",
     "text": [
      "Final X_train shape: (2142, 17)\n",
      "Final X_train dtypes: [dtype('int64') dtype('bool')]\n",
      "All columns are now clean and sklearn-compatible!\n",
      "\n",
      "Verifying no object columns with string values:\n",
      "Column age is numeric (OK)\n",
      "Column priors_count is numeric (OK)\n",
      "Column r_charge_degree_F1 is boolean (OK)\n",
      "Column r_charge_degree_F2 is boolean (OK)\n",
      "Column r_charge_degree_F3 is boolean (OK)\n",
      "Column r_charge_degree_F6 is boolean (OK)\n",
      "Column r_charge_degree_F7 is boolean (OK)\n",
      "Column r_charge_degree_M1 is boolean (OK)\n",
      "Column r_charge_degree_M2 is boolean (OK)\n",
      "Column r_charge_degree_MO3 is boolean (OK)\n",
      "Column vr_charge_degree_F2 is boolean (OK)\n",
      "Column vr_charge_degree_F3 is boolean (OK)\n",
      "Column vr_charge_degree_F6 is boolean (OK)\n",
      "Column vr_charge_degree_F7 is boolean (OK)\n",
      "Column vr_charge_degree_M1 is boolean (OK)\n",
      "Column vr_charge_degree_M2 is boolean (OK)\n",
      "Column vr_charge_degree_MO3 is boolean (OK)\n"
     ]
    }
   ],
   "source": [
    "# Redo train_test_split with fully corrected data\n",
    "X_train, X_test, y_train, y_test, s_train, s_test = train_test_split(\n",
    "    X, y, sensitive, test_size=0.3, random_state=42, stratify=sensitive\n",
    ")\n",
    "\n",
    "print(f\"Final X_train shape: {X_train.shape}\")\n",
    "print(f\"Final X_train dtypes: {X_train.dtypes.unique()}\")\n",
    "print(f\"All columns are now clean and sklearn-compatible!\")\n",
    "\n",
    "# Verify no problematic values remain\n",
    "print(\"\\nVerifying no object columns with string values:\")\n",
    "for col in X_train.columns:\n",
    "    if X_train[col].dtype == 'object':\n",
    "        print(f\"Column {col} has dtype object - checking values...\")\n",
    "        print(X_train[col].unique()[:5])\n",
    "    elif X_train[col].dtype == 'bool':\n",
    "        print(f\"Column {col} is boolean (OK)\")\n",
    "    else:\n",
    "        print(f\"Column {col} is numeric (OK)\")"
   ]
  },
  {
   "cell_type": "code",
   "execution_count": 207,
   "metadata": {
    "colab": {
     "base_uri": "https://localhost:8080/",
     "height": 339
    },
    "executionInfo": {
     "elapsed": 214,
     "status": "error",
     "timestamp": 1753864999885,
     "user": {
      "displayName": "priyanka shiv more",
      "userId": "09539223761310484086"
     },
     "user_tz": -330
    },
    "id": "NddbHgB_d61l",
    "outputId": "76b5653b-2a17-46ee-f078-712cb618b751"
   },
   "outputs": [],
   "source": [
    "# Apply ExponentiatedGradient with DemographicParity constraint\n",
    "constraint = DemographicParity()\n",
    "expgrad_model = ExponentiatedGradient(\n",
    "    estimator=LogisticRegression(max_iter=1000),\n",
    "    constraints=constraint,\n",
    "    eps=0.01\n",
    ")\n",
    "expgrad_model.fit(X_train, y_train, sensitive_features=s_train)\n",
    "y_pred_fair = expgrad_model.predict(X_test)"
   ]
  },
  {
   "cell_type": "code",
   "execution_count": 208,
   "metadata": {},
   "outputs": [
    {
     "name": "stdout",
     "output_type": "stream",
     "text": [
      "=== FAIRNESS-AWARE MODEL RESULTS ===\n",
      "\n",
      "By racial group:\n",
      "                  accuracy  selection_rate\n",
      "race                                      \n",
      "African-American  0.919804             1.0\n",
      "Caucasian         0.938312             1.0\n",
      "\n",
      "Overall accuracy: 0.926\n",
      "\n",
      "=== FAIRNESS ANALYSIS ===\n",
      "Selection rate gap: 0.000\n",
      "Accuracy gap: 0.019\n",
      "\n",
      " SUCCESS! The ExponentiatedGradient model is now working!\n",
      "The model has been successfully trained with fairness constraints.\n",
      "\n",
      "Model details:\n",
      "- Training samples: 2,142\n",
      "- Test samples: 919\n",
      "- Features used: 17\n",
      "- Feature types: 15 boolean, 2 numeric\n"
     ]
    }
   ],
   "source": [
    "# Evaluate the fairness-aware model\n",
    "from fairlearn.metrics import MetricFrame, selection_rate\n",
    "from sklearn.metrics import accuracy_score\n",
    "\n",
    "# Create fairness evaluation\n",
    "fair_metric_frame = MetricFrame(\n",
    "    metrics={\n",
    "        'accuracy': accuracy_score,\n",
    "        'selection_rate': selection_rate\n",
    "    },\n",
    "    y_true=y_test,\n",
    "    y_pred=y_pred_fair,\n",
    "    sensitive_features=s_test\n",
    ")\n",
    "\n",
    "print(\"=== FAIRNESS-AWARE MODEL RESULTS ===\")\n",
    "print(\"\\nBy racial group:\")\n",
    "print(fair_metric_frame.by_group)\n",
    "\n",
    "print(f\"\\nOverall accuracy: {accuracy_score(y_test, y_pred_fair):.3f}\")\n",
    "\n",
    "# Show fairness metrics\n",
    "print(\"\\n=== FAIRNESS ANALYSIS ===\")\n",
    "rates = fair_metric_frame.by_group['selection_rate']\n",
    "accuracies = fair_metric_frame.by_group['accuracy']\n",
    "\n",
    "print(f\"Selection rate gap: {rates.max() - rates.min():.3f}\")\n",
    "print(f\"Accuracy gap: {accuracies.max() - accuracies.min():.3f}\")\n",
    "\n",
    "print(\"\\n SUCCESS! The ExponentiatedGradient model is now working!\")\n",
    "print(\"The model has been successfully trained with fairness constraints.\")\n",
    "\n",
    "# Show some additional insights\n",
    "print(f\"\\nModel details:\")\n",
    "print(f\"- Training samples: {X_train.shape[0]:,}\")\n",
    "print(f\"- Test samples: {X_test.shape[0]:,}\")\n",
    "print(f\"- Features used: {X_train.shape[1]}\")\n",
    "print(f\"- Feature types: {len(X.select_dtypes('bool').columns)} boolean, {len(X.select_dtypes('int64').columns)} numeric\")"
   ]
  },
  {
   "cell_type": "markdown",
   "metadata": {},
   "source": []
  },
  {
   "cell_type": "markdown",
   "metadata": {},
   "source": [
    "**COMPAS (Correctional Offender Management Profiling for Alternative Sanctions)** is a widely used commercial algorithm that helps judges and parole officers assess the likelihood of a criminal defendant reoffending (recidivism).\n",
    "However, studies—including a 2-year follow-up on actual reoffending—have shown that COMPAS is biased: it tends to favor white defendants and disadvantage black inmates."
   ]
  }
 ],
 "metadata": {
  "colab": {
   "authorship_tag": "ABX9TyP0ZklZ25ZrxrdTdlNJ8Iks",
   "provenance": []
  },
  "kernelspec": {
   "display_name": "Python 3",
   "name": "python3"
  },
  "language_info": {
   "codemirror_mode": {
    "name": "ipython",
    "version": 3
   },
   "file_extension": ".py",
   "mimetype": "text/x-python",
   "name": "python",
   "nbconvert_exporter": "python",
   "pygments_lexer": "ipython3",
   "version": "3.13.5"
  }
 },
 "nbformat": 4,
 "nbformat_minor": 0
}
